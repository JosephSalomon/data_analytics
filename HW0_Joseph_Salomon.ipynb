{
 "cells": [
  {
   "cell_type": "markdown",
   "metadata": {},
   "source": [
    "# CS381: HW 0 "
   ]
  },
  {
   "cell_type": "markdown",
   "metadata": {},
   "source": [
    "### Due 2/10/2020 23:59 pm"
   ]
  },
  {
   "cell_type": "code",
   "execution_count": 8,
   "metadata": {},
   "outputs": [
    {
     "name": "stdout",
     "output_type": "stream",
     "text": [
      "Requirement already satisfied: seaborn in /Users/josephsalomon/opt/anaconda3/lib/python3.7/site-packages (0.9.0)\r\n",
      "Requirement already satisfied: numpy>=1.9.3 in /Users/josephsalomon/opt/anaconda3/lib/python3.7/site-packages (from seaborn) (1.17.4)\r\n",
      "Requirement already satisfied: scipy>=0.14.0 in /Users/josephsalomon/opt/anaconda3/lib/python3.7/site-packages (from seaborn) (1.3.1)\r\n",
      "Requirement already satisfied: matplotlib>=1.4.3 in /Users/josephsalomon/opt/anaconda3/lib/python3.7/site-packages (from seaborn) (3.1.1)\r\n",
      "Requirement already satisfied: pandas>=0.15.2 in /Users/josephsalomon/opt/anaconda3/lib/python3.7/site-packages (from seaborn) (0.25.3)\r\n",
      "Requirement already satisfied: cycler>=0.10 in /Users/josephsalomon/opt/anaconda3/lib/python3.7/site-packages (from matplotlib>=1.4.3->seaborn) (0.10.0)\r\n",
      "Requirement already satisfied: kiwisolver>=1.0.1 in /Users/josephsalomon/opt/anaconda3/lib/python3.7/site-packages (from matplotlib>=1.4.3->seaborn) (1.1.0)\r\n",
      "Requirement already satisfied: pyparsing!=2.0.4,!=2.1.2,!=2.1.6,>=2.0.1 in /Users/josephsalomon/opt/anaconda3/lib/python3.7/site-packages (from matplotlib>=1.4.3->seaborn) (2.4.6)\r\n",
      "Requirement already satisfied: python-dateutil>=2.1 in /Users/josephsalomon/opt/anaconda3/lib/python3.7/site-packages (from matplotlib>=1.4.3->seaborn) (2.8.1)\r\n",
      "Requirement already satisfied: pytz>=2017.2 in /Users/josephsalomon/opt/anaconda3/lib/python3.7/site-packages (from pandas>=0.15.2->seaborn) (2019.3)\r\n",
      "Requirement already satisfied: six in /Users/josephsalomon/opt/anaconda3/lib/python3.7/site-packages (from cycler>=0.10->matplotlib>=1.4.3->seaborn) (1.13.0)\r\n",
      "Requirement already satisfied: setuptools in /Users/josephsalomon/opt/anaconda3/lib/python3.7/site-packages (from kiwisolver>=1.0.1->matplotlib>=1.4.3->seaborn) (44.0.0.post20200106)\r\n"
     ]
    }
   ],
   "source": []
  },
  {
   "cell_type": "code",
   "execution_count": 12,
   "metadata": {},
   "outputs": [],
   "source": [
    "import pandas as pd\n",
    "import numpy as np\n",
    "import seaborn as sns"
   ]
  },
  {
   "cell_type": "markdown",
   "metadata": {},
   "source": [
    "### Challenge 1: Add a html link to your LinkedIn Profile"
   ]
  },
  {
   "cell_type": "markdown",
   "metadata": {},
   "source": [
    "Hint: You can google how to add a html link in markdown or check out the markdown cheatsheet in Blackboard"
   ]
  },
  {
   "cell_type": "markdown",
   "metadata": {},
   "source": [
    "[Joseph Salomon's Linkdin Profile](https://www.linkedin.com/in/joseph-salomon/)"
   ]
  },
  {
   "cell_type": "markdown",
   "metadata": {},
   "source": [
    "### Challenge 2: Include your LinkedIn Profile Picture here"
   ]
  },
  {
   "cell_type": "markdown",
   "metadata": {},
   "source": [
    "![Linkdin Profile Picture](JofiHeadshot.jpg)"
   ]
  },
  {
   "cell_type": "code",
   "execution_count": null,
   "metadata": {},
   "outputs": [],
   "source": []
  }
 ],
 "metadata": {
  "kernelspec": {
   "display_name": "Python 3",
   "language": "python",
   "name": "python3"
  },
  "language_info": {
   "codemirror_mode": {
    "name": "ipython",
    "version": 3
   },
   "file_extension": ".py",
   "mimetype": "text/x-python",
   "name": "python",
   "nbconvert_exporter": "python",
   "pygments_lexer": "ipython3",
   "version": "3.6.5"
  }
 },
 "nbformat": 4,
 "nbformat_minor": 2
}
